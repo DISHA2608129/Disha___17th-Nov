{
  "nbformat": 4,
  "nbformat_minor": 0,
  "metadata": {
    "colab": {
      "provenance": []
    },
    "kernelspec": {
      "name": "python3",
      "display_name": "Python 3"
    },
    "language_info": {
      "name": "python"
    }
  },
  "cells": [
    {
      "cell_type": "markdown",
      "source": [
        "1. Described the scenarios where multithreading is preferable to multiprocessing and scenarios where multiprocessing is a better choice."
      ],
      "metadata": {
        "id": "rOIQzhCk4tUE"
      }
    },
    {
      "cell_type": "markdown",
      "source": [
        "Multithreading:\n",
        "Best Scenarios for Multithreading:\n",
        "\n",
        "I/O-bound tasks: These are tasks where the program spends a lot of time waiting for I/O operations to complete, such as\n",
        " network requests, reading from disk, and database queries. Multithreading is well-suited as threads can continue executing other tasks while waiting for I/O.\n"
      ],
      "metadata": {
        "id": "eeJGTOf95yJa"
      }
    },
    {
      "cell_type": "code",
      "source": [
        "import threading\n",
        "import time\n",
        "import requests\n",
        "\n",
        "# Simulate an I/O-bound task\n",
        "def fetch_url(url):\n",
        "    print(f\"Starting download: {url}\")\n",
        "    response = requests.get(url)\n",
        "    print(f\"Finished download: {url}, Status Code: {response.status_code}\")\n",
        "\n",
        "def multithreading_example():\n",
        "    # List of URLs to fetch\n",
        "    urls = [\"https://www.google.com\", \"https://www.github.com\", \"https://www.python.org\"]\n",
        "\n",
        "    threads = []\n",
        "\n",
        "    # Create and start threads\n",
        "    for url in urls:\n",
        "        thread = threading.Thread(target=fetch_url, args=(url,))\n",
        "        thread.start()\n",
        "        threads.append(thread)\n",
        "\n",
        "    # Wait for all threads to finish\n",
        "    for thread in threads:\n",
        "        thread.join()\n",
        "\n",
        "if __name__ == \"__main__\":\n",
        "    start_time = time.time()\n",
        "    multithreading_example()\n",
        "    print(f\"Time taken with threading: {time.time() - start_time:.2f} seconds\")\n"
      ],
      "metadata": {
        "colab": {
          "base_uri": "https://localhost:8080/"
        },
        "id": "vCOZX-aq6FP_",
        "outputId": "2bb555ef-9d4f-45b4-8555-52dcc1d9bff8"
      },
      "execution_count": 1,
      "outputs": [
        {
          "output_type": "stream",
          "name": "stdout",
          "text": [
            "Starting download: https://www.google.comStarting download: https://www.github.com\n",
            "\n",
            "Starting download: https://www.python.org\n",
            "Finished download: https://www.python.org, Status Code: 200\n",
            "Finished download: https://www.google.com, Status Code: 200\n",
            "Finished download: https://www.github.com, Status Code: 200\n",
            "Time taken with threading: 0.24 seconds\n"
          ]
        }
      ]
    },
    {
      "cell_type": "markdown",
      "source": [
        "Multiprocessing:\n",
        "Best Scenarios for Multiprocessing:\n",
        "\n",
        "CPU-bound tasks: These are tasks that require significant CPU processing power, such as mathematical computations, data processing, image manipulation, etc. Multiprocessing allows true parallelism, bypassing Python's Global Interpreter Lock (GIL) and taking advantage of multiple CPU cores."
      ],
      "metadata": {
        "id": "eSE_nsWV6VWT"
      }
    },
    {
      "cell_type": "code",
      "source": [
        "import multiprocessing\n",
        "import time\n",
        "\n",
        "# Simulate a CPU-bound task\n",
        "def compute_fibonacci(n):\n",
        "    if n <= 1:\n",
        "        return n\n",
        "    else:\n",
        "        return compute_fibonacci(n - 1) + compute_fibonacci(n - 2)\n",
        "\n",
        "def multiprocessing_example():\n",
        "    numbers = [35, 36, 37]  # Fibonacci numbers to calculate\n",
        "    with multiprocessing.Pool(processes=3) as pool:\n",
        "        results = pool.map(compute_fibonacci, numbers)\n",
        "\n",
        "    print(\"Results:\", results)\n",
        "\n",
        "if __name__ == \"__main__\":\n",
        "    start_time = time.time()\n",
        "    multiprocessing_example()\n",
        "    print(f\"Time taken with multiprocessing: {time.time() - start_time:.2f} seconds\")\n"
      ],
      "metadata": {
        "colab": {
          "base_uri": "https://localhost:8080/"
        },
        "id": "KkS88tKP69B4",
        "outputId": "2977781d-2a85-4cc6-9032-1df57c9d99ff"
      },
      "execution_count": 2,
      "outputs": [
        {
          "output_type": "stream",
          "name": "stdout",
          "text": [
            "Results: [9227465, 14930352, 24157817]\n",
            "Time taken with multiprocessing: 24.31 seconds\n"
          ]
        }
      ]
    },
    {
      "cell_type": "markdown",
      "source": [
        "Comparison:\n",
        "Scenario 1: I/O-bound task (e.g., HTTP requests)\n",
        "Multithreading is better for this as I/O operations (like HTTP requests) involve waiting for data from an external resource (such as a server), during which the CPU can be free to handle other tasks. Threads can continue working while some are blocked, thus improving efficiency.\n",
        "Scenario 2: CPU-bound task (e.g., Fibonacci computation)\n",
        "Multiprocessing is the better choice for CPU-bound tasks like the Fibonacci computation example. In this case, the work is CPU-intensive, and processes can truly run in parallel, taking advantage of multiple CPU cores, which can result in a significant speedup as compared to multithreading."
      ],
      "metadata": {
        "id": "dfqSEw-H7JTi"
      }
    },
    {
      "cell_type": "markdown",
      "source": [
        "2. Described what a process pool is and how it helps in managing a multiple processes efficiently."
      ],
      "metadata": {
        "id": "9Sx7lWLz7Sdn"
      }
    },
    {
      "cell_type": "markdown",
      "source": [
        "A process pool is a collection of worker processes that can execute tasks concurrently. It is particularly useful for parallelizing CPU-bound tasks by distributing work across multiple CPU cores, bypassing the limitations of Python’s Global Interpreter Lock (GIL). The multiprocessing.Pool class in Python provides a simple way to manage a pool of processes, reusing worker processes to handle multiple tasks efficiently.\n",
        "\n",
        "Instead of creating and destroying processes for each task, a pool creates a fixed number of worker processes that remain active, awaiting tasks. When a task is submitted, it is assigned to an available worker. This reduces the overhead of process creation and management, improving performance, especially for large numbers of tasks."
      ],
      "metadata": {
        "id": "4dAKMjL07yZc"
      }
    },
    {
      "cell_type": "code",
      "source": [
        "import multiprocessing\n",
        "\n",
        "def compute_square(n):\n",
        "    return n * n\n",
        "\n",
        "def main():\n",
        "    with multiprocessing.Pool(processes=4) as pool:\n",
        "        numbers = [3, 4, 5, 6, 7, 8, 9, 10]\n",
        "        results = pool.map(compute_square, numbers)\n",
        "    print(results)\n",
        "\n",
        "if __name__ == \"__main__\":\n",
        "    main()\n"
      ],
      "metadata": {
        "colab": {
          "base_uri": "https://localhost:8080/"
        },
        "id": "cEC1jgPI7_zi",
        "outputId": "869fa7e2-65d0-4bc8-f3bd-1e92e80c6141"
      },
      "execution_count": 3,
      "outputs": [
        {
          "output_type": "stream",
          "name": "stdout",
          "text": [
            "[9, 16, 25, 36, 49, 64, 81, 100]\n"
          ]
        }
      ]
    },
    {
      "cell_type": "markdown",
      "source": [
        "3. Explain what muiltiprocessing is and why it is used in Python Programmes."
      ],
      "metadata": {
        "id": "M_uiNTCc8Dpl"
      }
    },
    {
      "cell_type": "markdown",
      "source": [
        "**Multiprocessing** is a technique in Python that allows multiple processes to run concurrently, each with its own memory space. This is particularly useful for parallelizing **CPU-bound tasks** (tasks that require heavy computation, like number crunching or data processing). Python's **Global Interpreter Lock (GIL)** restricts the execution of Python bytecode to one thread at a time in a single process, limiting the performance of multithreading for CPU-bound tasks. Multiprocessing bypasses this limitation by creating separate processes, each with its own Python interpreter and memory space, allowing true parallelism on multi-core systems.\n",
        "\n",
        "In Python, the `multiprocessing` module provides classes and functions to create and manage processes. Key benefits of multiprocessing include:\n",
        "\n",
        "Trune parallism\n",
        "Multiple processes can run simultaneously on different CPU cores, providing performance improvements for CPU-bound tasks.\n",
        "Isolation\n",
        "Each process runs independently, so issues like memory corruption or race conditions are avoided.\n",
        "Maintained efficiency\n",
        "By utilizing all available CPU cores, multiprocessing helps to fully leverage a multi-core processor, speeding up compute-intensive tasks.\n",
        "\n",
        "Multiprocessing is used in Python to speed up programs that involve intensive computations, such as simulations, large-scale data processing, or machine learning. It ensures that CPU resources are effectively utilized, resulting in faster execution times and better performance for parallel tasks."
      ],
      "metadata": {
        "id": "L3-corHg8WhI"
      }
    },
    {
      "cell_type": "markdown",
      "source": [
        "4. Write a Python Programmeusing multithreading where one thread adds number to a list, and another thread removes number from the list. Implement a mechanism to avoid race condition using threading.Lock."
      ],
      "metadata": {
        "id": "ImldE8hV8mLl"
      }
    },
    {
      "cell_type": "code",
      "source": [
        "import threading\n",
        "import time\n",
        "\n",
        "# Shared list\n",
        "shared_list = []\n",
        "\n",
        "# Create a Lock object to prevent race conditions\n",
        "lock = threading.Lock()\n",
        "\n",
        "# Function to add numbers to the list\n",
        "def add_to_list():\n",
        "    for i in range(5):\n",
        "        time.sleep(0.1)  # Simulate some processing time\n",
        "        with lock:  # Acquire the lock before modifying the shared list\n",
        "            shared_list.append(i)\n",
        "            print(f\"Added {i} to the list. Current list: {shared_list}\")\n",
        "\n",
        "# Function to remove numbers from the list\n",
        "def remove_from_list():\n",
        "    for _ in range(5):\n",
        "        time.sleep(0.2)  # Simulate some processing time\n",
        "        with lock:  # Acquire the lock before modifying the shared list\n",
        "            if shared_list:\n",
        "                removed = shared_list.pop(0)\n",
        "                print(f\"Removed {removed} from the list. Current list: {shared_list}\")\n",
        "            else:\n",
        "                print(\"List is empty. Cannot remove item.\")\n",
        "\n",
        "# Create threads for adding and removing from the list\n",
        "thread1 = threading.Thread(target=add_to_list)\n",
        "thread2 = threading.Thread(target=remove_from_list)\n",
        "\n",
        "# Start both threads\n",
        "thread1.start()\n",
        "thread2.start()\n",
        "\n",
        "# Wait for both threads to finish\n",
        "thread1.join()\n",
        "thread2.join()\n",
        "\n",
        "print(\"Final shared list:\", shared_list)\n"
      ],
      "metadata": {
        "colab": {
          "base_uri": "https://localhost:8080/"
        },
        "id": "ZTbo_-1m9DMJ",
        "outputId": "011fb998-b974-48ef-fa1f-2024fbd60e9a"
      },
      "execution_count": 4,
      "outputs": [
        {
          "output_type": "stream",
          "name": "stdout",
          "text": [
            "Added 0 to the list. Current list: [0]\n",
            "Removed 0 from the list. Current list: []\n",
            "Added 1 to the list. Current list: [1]\n",
            "Added 2 to the list. Current list: [1, 2]\n",
            "Removed 1 from the list. Current list: [2]\n",
            "Added 3 to the list. Current list: [2, 3]\n",
            "Added 4 to the list. Current list: [2, 3, 4]\n",
            "Removed 2 from the list. Current list: [3, 4]\n",
            "Removed 3 from the list. Current list: [4]\n",
            "Removed 4 from the list. Current list: []\n",
            "Final shared list: []\n"
          ]
        }
      ]
    },
    {
      "cell_type": "markdown",
      "source": [
        "5. Describe the tools and methods avaliable in Python for safely sharing data between threads and processes."
      ],
      "metadata": {
        "id": "JpnmeONw95AC"
      }
    },
    {
      "cell_type": "markdown",
      "source": [
        "Threading (Multithreading)\n",
        "Purpose: A Lock is used to ensure that only one thread can access shared data at a time, preventing race conditions."
      ],
      "metadata": {
        "id": "N-7SBv01_vgh"
      }
    },
    {
      "cell_type": "code",
      "source": [
        "import threading\n",
        "lock = threading.Lock()\n",
        "shared_data = []\n",
        "\n",
        "def add_to_list():\n",
        "    with lock:\n",
        "        shared_data.append(1)\n"
      ],
      "metadata": {
        "id": "uFCEWrA__yWF"
      },
      "execution_count": 5,
      "outputs": []
    },
    {
      "cell_type": "markdown",
      "source": [
        "queue.Queue\n",
        "Purpose: A thread-safe queue for exchanging data between threads, especially useful in producer-consumer scenarios.\n",
        "\n"
      ],
      "metadata": {
        "id": "PqpUVKR3_709"
      }
    },
    {
      "cell_type": "code",
      "source": [
        "import threading\n",
        "from queue import Queue\n",
        "\n",
        "queue = Queue()\n",
        "\n",
        "def producer():\n",
        "    queue.put('item')\n",
        "\n",
        "def consumer():\n",
        "    item = queue.get()\n",
        "    print(f\"Consumed: {item}\")\n"
      ],
      "metadata": {
        "id": "tmoRy31mAD0j"
      },
      "execution_count": 6,
      "outputs": []
    },
    {
      "cell_type": "markdown",
      "source": [
        "Multiprocessing (Processes)\n",
        "multiprocessing.Lock\n",
        "Similar to threading.Lock, the multiprocessing.Lock ensures that only one process accesses shared data at a time."
      ],
      "metadata": {
        "id": "vkWzAsM6AKJg"
      }
    },
    {
      "cell_type": "code",
      "source": [
        "import multiprocessing\n",
        "lock = multiprocessing.Lock()\n",
        "shared_data = []\n",
        "\n",
        "def add_to_list():\n",
        "    with lock:\n",
        "        shared_data.append(1)\n"
      ],
      "metadata": {
        "id": "d_18Go9nAgSM"
      },
      "execution_count": 7,
      "outputs": []
    },
    {
      "cell_type": "markdown",
      "source": [
        "multiprocessing.Queue\n",
        "A process-safe queue used for inter-process communication, allowing data to be safely passed between processes."
      ],
      "metadata": {
        "id": "Zbwka99FAnXO"
      }
    },
    {
      "cell_type": "code",
      "source": [
        "import multiprocessing\n",
        "\n",
        "def producer(queue):\n",
        "    queue.put('item')\n",
        "\n",
        "def consumer(queue):\n",
        "    item = queue.get()\n",
        "    print(f\"Consumed: {item}\")\n",
        "\n",
        "if __name__ == '__main__':\n",
        "    queue = multiprocessing.Queue()\n",
        "    p1 = multiprocessing.Process(target=producer, args=(queue,))\n",
        "    p2 = multiprocessing.Process(target=consumer, args=(queue,))\n",
        "    p1.start()\n",
        "    p2.start()\n",
        "    p1.join()\n",
        "    p2.join()\n"
      ],
      "metadata": {
        "colab": {
          "base_uri": "https://localhost:8080/"
        },
        "id": "8mZds9YaAqpd",
        "outputId": "222f2c83-c3f8-466d-f1a8-99797beb107b"
      },
      "execution_count": 8,
      "outputs": [
        {
          "output_type": "stream",
          "name": "stdout",
          "text": [
            "Consumed: item\n"
          ]
        }
      ]
    },
    {
      "cell_type": "markdown",
      "source": [
        "6. Discuss why its's crucial to handle exceptions in concurrent programmes and the techniques avaliable for doing so."
      ],
      "metadata": {
        "id": "IeHjzusoBj4k"
      }
    },
    {
      "cell_type": "markdown",
      "source": [
        "Handling exceptions in concurrent programs is crucial as it unhandled errors can disrupt multiple threads or processes, leading to instability, resource leakage, and incorrect behavior. In multi-threaded and multi-process environments, exceptions in one thread or process can propagate unpredictably, affecting the entire system. Techniques for handling exceptions include using `try-except` blocks within each thread/process, `concurrent.futures` to capture exceptions from worker threads/processes, `Queue` for passing errors between processes, and `logging` for tracking errors. Additionally, `try-finally` blocks ensure proper resource cleanup even if an exception occurs, maintaining program stability and resource integrity."
      ],
      "metadata": {
        "id": "3gBQWj2RCRTg"
      }
    },
    {
      "cell_type": "markdown",
      "source": [
        "7. Create a programme that uses a thread pool to calculate the factorial of numbers from 1 to 10 concurrently. Use concurrent.futures.ThreadPoolExecutor to manage the threads."
      ],
      "metadata": {
        "id": "BtehJV1fCZiP"
      }
    },
    {
      "cell_type": "code",
      "source": [
        "import concurrent.futures\n",
        "import math\n",
        "\n",
        "# Function to calculate the factorial\n",
        "def calculate_factorial(n):\n",
        "    return math.factorial(n)\n",
        "\n",
        "def main():\n",
        "    # List of numbers from 1 to 10\n",
        "    numbers = list(range(1, 11))\n",
        "\n",
        "    # Use ThreadPoolExecutor to manage the threads\n",
        "    with concurrent.futures.ThreadPoolExecutor() as executor:\n",
        "        # Map the calculate_factorial function to the numbers list\n",
        "        results = list(executor.map(calculate_factorial, numbers))\n",
        "\n",
        "    # Print the results\n",
        "    for num, fact in zip(numbers, results):\n",
        "        print(f\"Factorial of {num} is {fact}\")\n",
        "\n",
        "if __name__ == \"__main__\":\n",
        "    main()\n"
      ],
      "metadata": {
        "colab": {
          "base_uri": "https://localhost:8080/"
        },
        "id": "lpWL5KgMDY3d",
        "outputId": "875ec577-3c00-4a88-e999-02229181e27c"
      },
      "execution_count": 9,
      "outputs": [
        {
          "output_type": "stream",
          "name": "stdout",
          "text": [
            "Factorial of 1 is 1\n",
            "Factorial of 2 is 2\n",
            "Factorial of 3 is 6\n",
            "Factorial of 4 is 24\n",
            "Factorial of 5 is 120\n",
            "Factorial of 6 is 720\n",
            "Factorial of 7 is 5040\n",
            "Factorial of 8 is 40320\n",
            "Factorial of 9 is 362880\n",
            "Factorial of 10 is 3628800\n"
          ]
        }
      ]
    },
    {
      "cell_type": "markdown",
      "source": [
        "8. Create a Python Programme that used multiprocessing.Pool to compute the square of numbers from 1 to 10 in parallel. Measure the time taken to perform this computation using a pool of different sizes"
      ],
      "metadata": {
        "id": "LtrerXhoDbyg"
      }
    },
    {
      "cell_type": "code",
      "source": [
        "import multiprocessing\n",
        "import time\n",
        "\n",
        "# Function to calculate square of a number\n",
        "def calculate_square(n):\n",
        "    return n * n\n",
        "\n",
        "# Function to measure time for different pool sizes\n",
        "def compute_squares(pool_size):\n",
        "    with multiprocessing.Pool(pool_size) as pool:\n",
        "        start_time = time.time()\n",
        "        results = pool.map(calculate_square, range(1, 11))  # Compute squares for numbers 1 to 10\n",
        "        end_time = time.time()\n",
        "\n",
        "        print(f\"Pool size: {pool_size} -> Results: {results}\")\n",
        "        print(f\"Time taken: {end_time - start_time:.6f} seconds\\n\")\n",
        "        return end_time - start_time\n",
        "\n",
        "def main():\n",
        "    # Different pool sizes to test\n",
        "    pool_sizes = [1, 2, 4, 8]\n",
        "\n",
        "    for pool_size in pool_sizes:\n",
        "        compute_squares(pool_size)\n",
        "\n",
        "if __name__ == \"__main__\":\n",
        "    main()\n"
      ],
      "metadata": {
        "colab": {
          "base_uri": "https://localhost:8080/"
        },
        "id": "asXxYERRD5kt",
        "outputId": "e0c98487-2844-47ed-f391-42e3f26dab24"
      },
      "execution_count": 10,
      "outputs": [
        {
          "output_type": "stream",
          "name": "stdout",
          "text": [
            "Pool size: 1 -> Results: [1, 4, 9, 16, 25, 36, 49, 64, 81, 100]\n",
            "Time taken: 0.014830 seconds\n",
            "\n",
            "Pool size: 2 -> Results: [1, 4, 9, 16, 25, 36, 49, 64, 81, 100]\n",
            "Time taken: 0.009228 seconds\n",
            "\n",
            "Pool size: 4 -> Results: [1, 4, 9, 16, 25, 36, 49, 64, 81, 100]\n",
            "Time taken: 0.003078 seconds\n",
            "\n",
            "Pool size: 8 -> Results: [1, 4, 9, 16, 25, 36, 49, 64, 81, 100]\n",
            "Time taken: 0.002818 seconds\n",
            "\n"
          ]
        }
      ]
    }
  ]
}